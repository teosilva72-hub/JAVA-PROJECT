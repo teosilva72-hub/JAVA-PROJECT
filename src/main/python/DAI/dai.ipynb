{
 "cells": [
  {
   "cell_type": "code",
   "execution_count": 1,
   "metadata": {},
   "outputs": [],
   "source": [
    "#Imports\n",
    "import numpy as np\n",
    "import pandas as pd\n",
    "from sqlalchemy import create_engine\n",
    "from datetime import datetime\n",
    "from functools import reduce\n",
    "import os\n"
   ]
  },
  {
   "cell_type": "code",
   "execution_count": null,
   "metadata": {},
   "outputs": [],
   "source": [
    "# MOVING FILES\n",
    "#def movefiles(files):\n",
    "#    list1 = files\n",
    "#    allequips(list1)\n",
    "#    list2 = [s.strip() for s in list1]\n",
    "    \n",
    "#    for item in list2:\n",
    "#        open('C:\\DAI db/%s.txt'%(item,), 'w')"
   ]
  },
  {
   "cell_type": "code",
   "execution_count": 7,
   "metadata": {},
   "outputs": [],
   "source": [
    "   #GET FILE INFOS\n",
    "incident = \"\"\n",
    "channel = \"\"\n",
    "lane = \"\"\n",
    "direction = \"\"\n",
    "date = \"\"\n",
    "hour = \"\"\n",
    "\n",
    "def allequips(files):\n",
    "    for file in files:\n",
    "\n",
    "        f_name, f_ext = os.path.splitext(file)\n",
    "        spl_incident, globals()['channel'], globals()['lane'], globals()['direction'], spl_date, spl_hour, ended = f_name.split(sep=\"_\", maxsplit=6)\n",
    "        globals()['incident'] = spl_incident.replace(\"(Event)\", \"\")\n",
    "        globals()['date'] = datetime.strptime(spl_date, \"%Y%m%d\").date()\n",
    "        globals()['hour'] = datetime.strptime(spl_hour, \"%H%M%S%f\").time().replace(microsecond=0)"
   ]
  },
  {
   "cell_type": "code",
   "execution_count": 4,
   "metadata": {},
   "outputs": [],
   "source": [
    "#GET PATH\n",
    "ini_folder = 'C:\\Camaras DAI'\n",
    "equips = map(lambda x: os.path.join(ini_folder, x, 'Traffic Incident'), os.listdir(ini_folder))\n",
    "for equip in equips:\n",
    "    dates = map(lambda x: os.path.join(equip, x), os.listdir(equip))\n",
    "    days = []\n",
    "    [days.extend(x) for x in map(lambda x: list(map(lambda y: os.path.join(x, y), os.listdir(x))), dates)]\n",
    "    files = []\n",
    "    [files.extend(x) for x in map(lambda x: os.listdir(x), days)]\n",
    "    \n",
    "    allequips(files)\n"
   ]
  },
  {
   "cell_type": "code",
   "execution_count": 5,
   "metadata": {},
   "outputs": [],
   "source": [
    "user = \"root\"\n",
    "passwd = \"trcvbr18\"\n",
    "host = \"localhost\"\n",
    "port = 3306\n",
    "db = \"tracevia_app\"\n",
    "\n",
    "#Create connection to the MySQL database\n",
    "engine = create_engine(f'mysql://{user}:{passwd}@{host}:{port}/{db}')\n",
    "con = engine.connect()"
   ]
  },
  {
   "cell_type": "code",
   "execution_count": 6,
   "metadata": {},
   "outputs": [
    {
     "data": {
      "text/html": [
       "<div>\n",
       "<style scoped>\n",
       "    .dataframe tbody tr th:only-of-type {\n",
       "        vertical-align: middle;\n",
       "    }\n",
       "\n",
       "    .dataframe tbody tr th {\n",
       "        vertical-align: top;\n",
       "    }\n",
       "\n",
       "    .dataframe thead th {\n",
       "        text-align: right;\n",
       "    }\n",
       "</style>\n",
       "<table border=\"1\" class=\"dataframe\">\n",
       "  <thead>\n",
       "    <tr style=\"text-align: right;\">\n",
       "      <th></th>\n",
       "      <th>direction</th>\n",
       "      <th>lane</th>\n",
       "      <th>channel</th>\n",
       "      <th>date</th>\n",
       "      <th>hour</th>\n",
       "      <th>incident</th>\n",
       "    </tr>\n",
       "  </thead>\n",
       "  <tbody>\n",
       "  </tbody>\n",
       "</table>\n",
       "</div>"
      ],
      "text/plain": [
       "Empty DataFrame\n",
       "Columns: [direction, lane, channel, date, hour, incident]\n",
       "Index: []"
      ]
     },
     "execution_count": 6,
     "metadata": {},
     "output_type": "execute_result"
    }
   ],
   "source": [
    "df = pd.DataFrame(columns={\"direction\",\"lane\",\"channel\",\"date\",\"hour\",\"incident\"})\n",
    "df = df[[\"direction\",\"lane\",\"channel\",\"date\",\"hour\",\"incident\"]]\n",
    "df\n"
   ]
  },
  {
   "cell_type": "code",
   "execution_count": null,
   "metadata": {},
   "outputs": [],
   "source": [
    "print(incident)\n",
    "print(globals()['date'])"
   ]
  }
 ],
 "metadata": {
  "interpreter": {
   "hash": "da66e4be7dfe63b72a20fda89cd97fe1d3fe89bfaf16793bcefba0578da873b2"
  },
  "kernelspec": {
   "display_name": "Python 3.9.7 64-bit (windows store)",
   "name": "python3"
  },
  "language_info": {
   "codemirror_mode": {
    "name": "ipython",
    "version": 3
   },
   "file_extension": ".py",
   "mimetype": "text/x-python",
   "name": "python",
   "nbconvert_exporter": "python",
   "pygments_lexer": "ipython3",
   "version": "3.9.9"
  },
  "orig_nbformat": 4
 },
 "nbformat": 4,
 "nbformat_minor": 2
}
