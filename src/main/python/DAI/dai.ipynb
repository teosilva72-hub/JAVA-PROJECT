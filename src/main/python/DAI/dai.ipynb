{
 "cells": [
  {
   "cell_type": "code",
   "execution_count": 1,
   "metadata": {},
   "outputs": [],
   "source": [
    "#Imports\n",
    "import numpy as np\n",
    "import pandas as pd\n",
    "from sqlalchemy import create_engine\n",
    "from datetime import datetime\n",
    "from functools import reduce\n",
    "import os\n",
    "from distutils.dir_util import copy_tree\n"
   ]
  },
  {
   "cell_type": "code",
   "execution_count": 2,
   "metadata": {},
   "outputs": [],
   "source": [
    "df = pd.DataFrame(columns={\"equip_id\", \"direction\",\"lane\",\"date\",\"hour\",\"incident\"})\n",
    "df = df[[\"equip_id\", \"direction\",\"lane\",\"date\",\"hour\",\"incident\"]]"
   ]
  },
  {
   "cell_type": "code",
   "execution_count": 3,
   "metadata": {},
   "outputs": [],
   "source": [
    "#MOVING FILES\n",
    "dest= 'C:\\Camaras DAI\\Copy DAI'\n",
    "def copyfiles(files, dest):\n",
    "   if os.path.isdir(dest):\n",
    "      dst = copy_tree(dest, os.path.basename(files))\n",
    "\n",
    "   os.replace(files,dest)"
   ]
  },
  {
   "cell_type": "code",
   "execution_count": 4,
   "metadata": {},
   "outputs": [],
   "source": [
    "def allequips(files, ip):\n",
    "    for file in files:\n",
    "        \n",
    "        f_name, f_ext = os.path.splitext(os.path.basename(file))\n",
    "        spl_incident, channel, lane, direction, spl_date, spl_hour, ended = f_name.split(sep=\"_\", maxsplit=6)\n",
    "        equip_id = pd.read_sql_query(f\"SELECT equip_id FROM tracevia_app.dai_equipment where equip_ip = '{ip}'\", con).iloc[0]['equip_id']\n",
    "        incident = spl_incident.replace(\"(Event)\", \"\")\n",
    "        date = datetime.strptime(spl_date, \"%Y%m%d\").date()\n",
    "        hour = datetime.strptime(spl_hour, \"%H%M%S%f\").time().replace(microsecond=0)\n",
    "        df2 = pd.DataFrame([[equip_id, direction, lane, date, hour, incident]], columns=['equip_id', 'direction', 'lane', 'date', 'hour', 'incident'])\n",
    "        globals()['df'] = df.append(df2)"
   ]
  },
  {
   "cell_type": "code",
   "execution_count": 7,
   "metadata": {},
   "outputs": [],
   "source": [
    "#GET PATH\n",
    "ini_folder = 'C:\\Camaras DAI'\n",
    "equips = list(map(lambda x: (os.path.join(ini_folder, x, 'Traffic Incident'), x), os.listdir(ini_folder)))\n",
    "for (equip, ip) in equips:\n",
    "    try:\n",
    "        dates = map(lambda x: os.path.join(equip, x), os.listdir(equip))\n",
    "        days = []\n",
    "        [days.extend(x) for x in map(lambda x: list(map(lambda y: os.path.join(x, y), os.listdir(x))), dates)]\n",
    "        files = []\n",
    "        [files.extend(x) for x in map(lambda x: list(map(lambda y: os.path.join(x, y), os.listdir(x))), days)]\n",
    "        \n",
    "        allequips(files, ip)\n",
    "    except Exception as ex:\n",
    "        with open('err.log', 'w') as log:\n",
    "            log.write(str(ex))\n",
    "\n"
   ]
  },
  {
   "cell_type": "code",
   "execution_count": 5,
   "metadata": {},
   "outputs": [],
   "source": [
    "user = \"root\"\n",
    "passwd = \"trcvbr18\"\n",
    "host = \"localhost\"\n",
    "port = 3306\n",
    "db = \"tracevia_app\"\n",
    "\n",
    "#Create connection to the MySQL database\n",
    "engine = create_engine(f'mysql://{user}:{passwd}@{host}:{port}/{db}')\n",
    "con = engine.connect()"
   ]
  },
  {
   "cell_type": "code",
   "execution_count": 8,
   "metadata": {},
   "outputs": [],
   "source": [
    "df\n",
    "df.to_sql(con=con, schema='tracevia_app', name='dai_history', if_exists='append', index=False)\n",
    "copyfiles(files[0], dest)"
   ]
  }
 ],
 "metadata": {
  "interpreter": {
   "hash": "da66e4be7dfe63b72a20fda89cd97fe1d3fe89bfaf16793bcefba0578da873b2"
  },
  "kernelspec": {
   "display_name": "Python 3.9.7 64-bit (windows store)",
   "name": "python3"
  },
  "language_info": {
   "codemirror_mode": {
    "name": "ipython",
    "version": 3
   },
   "file_extension": ".py",
   "mimetype": "text/x-python",
   "name": "python",
   "nbconvert_exporter": "python",
   "pygments_lexer": "ipython3",
   "version": "3.9.9"
  },
  "orig_nbformat": 4
 },
 "nbformat": 4,
 "nbformat_minor": 2
}
