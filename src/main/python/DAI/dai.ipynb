{
 "cells": [
  {
   "cell_type": "code",
   "execution_count": 9,
   "metadata": {},
   "outputs": [],
   "source": [
    "#Imports\n",
    "import numpy as np\n",
    "import pandas as pd\n",
    "from sqlalchemy import create_engine\n",
    "from datetime import datetime\n",
    "from functools import reduce\n",
    "import os\n",
    "import shutil\n"
   ]
  },
  {
   "cell_type": "code",
   "execution_count": 10,
   "metadata": {},
   "outputs": [],
   "source": [
    "df = pd.DataFrame(columns={\"direction\",\"lane\",\"channel\",\"date\",\"hour\",\"incident\"})\n",
    "df = df[[\"direction\",\"lane\",\"channel\",\"date\",\"hour\",\"incident\"]]"
   ]
  },
  {
   "cell_type": "code",
   "execution_count": 26,
   "metadata": {},
   "outputs": [],
   "source": [
    "#MOVING FILES\n",
    "dest= 'C:\\Camaras DAI\\DAI db'\n",
    "def copyfiles(files, dest):\n",
    "   if os.path.isdir(dest):\n",
    "      dst = os.path.join(dest, os.path.basename(files))\n",
    "   os.replace(files,dest)"
   ]
  },
  {
   "cell_type": "code",
   "execution_count": 21,
   "metadata": {},
   "outputs": [],
   "source": [
    "def allequips(files):\n",
    "    for file in files:\n",
    "        \n",
    "        f_name, f_ext = os.path.splitext(os.path.basename(file))\n",
    "        spl_incident, channel, lane, direction, spl_date, spl_hour, ended = f_name.split(sep=\"_\", maxsplit=6)\n",
    "        incident = spl_incident.replace(\"(Event)\", \"\")\n",
    "        date = datetime.strptime(spl_date, \"%Y%m%d\").date()\n",
    "        hour = datetime.strptime(spl_hour, \"%H%M%S%f\").time().replace(microsecond=0)\n",
    "        df2 = pd.DataFrame([[direction, lane, channel, date, hour, incident]], columns=['direction', 'lane', 'channel', 'date', 'hour', 'incident'])\n",
    "        globals()['df'] = df.append(df2)"
   ]
  },
  {
   "cell_type": "code",
   "execution_count": 13,
   "metadata": {},
   "outputs": [],
   "source": [
    "#GET PATH\n",
    "ini_folder = 'C:\\Camaras DAI'\n",
    "equips = list(map(lambda x: os.path.join(ini_folder, x, 'Traffic Incident'), os.listdir(ini_folder)))\n",
    "for equip in equips:\n",
    "    try:\n",
    "        dates = map(lambda x: os.path.join(equip, x), os.listdir(equip))\n",
    "        days = []\n",
    "        [days.extend(x) for x in map(lambda x: list(map(lambda y: os.path.join(x, y), os.listdir(x))), dates)]\n",
    "        files = []\n",
    "        [files.extend(x) for x in map(lambda x: list(map(lambda y: os.path.join(x, y), os.listdir(x))), days)]\n",
    "        \n",
    "        allequips(files)\n",
    "    except Exception as ex:\n",
    "        with open('err.log', 'w') as log:\n",
    "            log.write(str(ex))\n",
    "\n"
   ]
  },
  {
   "cell_type": "code",
   "execution_count": 6,
   "metadata": {},
   "outputs": [],
   "source": [
    "user = \"root\"\n",
    "passwd = \"trcvbr18\"\n",
    "host = \"localhost\"\n",
    "port = 3306\n",
    "db = \"tracevia_app\"\n",
    "\n",
    "#Create connection to the MySQL database\n",
    "engine = create_engine(f'mysql://{user}:{passwd}@{host}:{port}/{db}')\n",
    "con = engine.connect()"
   ]
  },
  {
   "cell_type": "code",
   "execution_count": 25,
   "metadata": {},
   "outputs": [
    {
     "ename": "FileNotFoundError",
     "evalue": "[WinError 2] O sistema não pode encontrar o arquivo especificado: 'C:\\\\Camaras DAI\\\\10.14.120.188\\\\Traffic Incident\\\\20210629\\\\14\\\\Illegal Parking(Event)_3_01_Up_20210629_141231904_unknown_P1.jpg' -> 'C:\\\\Camaras DAI\\\\DAI db'",
     "output_type": "error",
     "traceback": [
      "\u001b[1;31m---------------------------------------------------------------------------\u001b[0m",
      "\u001b[1;31mFileNotFoundError\u001b[0m                         Traceback (most recent call last)",
      "\u001b[1;32m~\\AppData\\Local\\Temp/ipykernel_27252/3332950815.py\u001b[0m in \u001b[0;36m<module>\u001b[1;34m\u001b[0m\n\u001b[0;32m      1\u001b[0m \u001b[0mdf\u001b[0m\u001b[1;33m\u001b[0m\u001b[1;33m\u001b[0m\u001b[0m\n\u001b[0;32m      2\u001b[0m \u001b[1;31m#df.to_sql(con=con, schema='tracevia_app', name='dai_history', if_exists='append', index=False)\u001b[0m\u001b[1;33m\u001b[0m\u001b[1;33m\u001b[0m\u001b[0m\n\u001b[1;32m----> 3\u001b[1;33m \u001b[0mcopyfiles\u001b[0m\u001b[1;33m(\u001b[0m\u001b[0mfiles\u001b[0m\u001b[1;33m[\u001b[0m\u001b[1;36m0\u001b[0m\u001b[1;33m]\u001b[0m\u001b[1;33m,\u001b[0m \u001b[0mdest\u001b[0m\u001b[1;33m)\u001b[0m\u001b[1;33m\u001b[0m\u001b[1;33m\u001b[0m\u001b[0m\n\u001b[0m",
      "\u001b[1;32m~\\AppData\\Local\\Temp/ipykernel_27252/1921376076.py\u001b[0m in \u001b[0;36mcopyfiles\u001b[1;34m(files, dest)\u001b[0m\n\u001b[0;32m      4\u001b[0m    \u001b[1;32mif\u001b[0m \u001b[0mos\u001b[0m\u001b[1;33m.\u001b[0m\u001b[0mpath\u001b[0m\u001b[1;33m.\u001b[0m\u001b[0misdir\u001b[0m\u001b[1;33m(\u001b[0m\u001b[0mdest\u001b[0m\u001b[1;33m)\u001b[0m\u001b[1;33m:\u001b[0m\u001b[1;33m\u001b[0m\u001b[1;33m\u001b[0m\u001b[0m\n\u001b[0;32m      5\u001b[0m       \u001b[0mdst\u001b[0m \u001b[1;33m=\u001b[0m \u001b[0mos\u001b[0m\u001b[1;33m.\u001b[0m\u001b[0mpath\u001b[0m\u001b[1;33m.\u001b[0m\u001b[0mjoin\u001b[0m\u001b[1;33m(\u001b[0m\u001b[0mdest\u001b[0m\u001b[1;33m,\u001b[0m \u001b[0mos\u001b[0m\u001b[1;33m.\u001b[0m\u001b[0mpath\u001b[0m\u001b[1;33m.\u001b[0m\u001b[0mbasename\u001b[0m\u001b[1;33m(\u001b[0m\u001b[0mfiles\u001b[0m\u001b[1;33m)\u001b[0m\u001b[1;33m)\u001b[0m\u001b[1;33m\u001b[0m\u001b[1;33m\u001b[0m\u001b[0m\n\u001b[1;32m----> 6\u001b[1;33m    \u001b[0mos\u001b[0m\u001b[1;33m.\u001b[0m\u001b[0mreplace\u001b[0m\u001b[1;33m(\u001b[0m\u001b[0mfiles\u001b[0m\u001b[1;33m,\u001b[0m\u001b[0mdest\u001b[0m\u001b[1;33m)\u001b[0m\u001b[1;33m\u001b[0m\u001b[1;33m\u001b[0m\u001b[0m\n\u001b[0m",
      "\u001b[1;31mFileNotFoundError\u001b[0m: [WinError 2] O sistema não pode encontrar o arquivo especificado: 'C:\\\\Camaras DAI\\\\10.14.120.188\\\\Traffic Incident\\\\20210629\\\\14\\\\Illegal Parking(Event)_3_01_Up_20210629_141231904_unknown_P1.jpg' -> 'C:\\\\Camaras DAI\\\\DAI db'"
     ]
    }
   ],
   "source": [
    "df\n",
    "#df.to_sql(con=con, schema='tracevia_app', name='dai_history', if_exists='append', index=False)\n",
    "copyfiles(files[0], dest)"
   ]
  },
  {
   "cell_type": "code",
   "execution_count": 22,
   "metadata": {},
   "outputs": [
    {
     "name": "stdout",
     "output_type": "stream",
     "text": [
      "<_io.BufferedWriter name='asd'>\n",
      "c:\\Users\\trace\\eclipse workspace 2020\\tracevia-application\\src\\main\\python\\DAI\\__main__\n"
     ]
    }
   ],
   "source": [
    "with open('asd', 'wb') as dsa:\n",
    "    print(dsa)\n",
    "\n",
    "print(os.path.abspath(__name__))"
   ]
  }
 ],
 "metadata": {
  "interpreter": {
   "hash": "da66e4be7dfe63b72a20fda89cd97fe1d3fe89bfaf16793bcefba0578da873b2"
  },
  "kernelspec": {
   "display_name": "Python 3.9.7 64-bit (windows store)",
   "name": "python3"
  },
  "language_info": {
   "codemirror_mode": {
    "name": "ipython",
    "version": 3
   },
   "file_extension": ".py",
   "mimetype": "text/x-python",
   "name": "python",
   "nbconvert_exporter": "python",
   "pygments_lexer": "ipython3",
   "version": "3.9.9"
  },
  "orig_nbformat": 4
 },
 "nbformat": 4,
 "nbformat_minor": 2
}
